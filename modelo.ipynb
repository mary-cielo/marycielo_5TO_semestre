{
 "cells": [
  {
   "cell_type": "code",
   "execution_count": null,
   "id": "3a5a84f4",
   "metadata": {},
   "outputs": [],
   "source": [
    "import pandas as pd\n",
    "from sklearn.model_selection import train_test_split\n",
    "from sklearn.ensemble import RandomForestClassifier\n",
    "from sklearn.preprocessing import MinMaxScaler\n",
    "from sklearn.tree import DecisionTreeClassifier\n",
    "from sklearn.linear_model import LogisticRegression"
   ]
  },
  {
   "cell_type": "code",
   "execution_count": null,
   "id": "72715147",
   "metadata": {},
   "outputs": [],
   "source": [
    "df = pd.read_csv('tarjetas_credito.csv')"
   ]
  },
  {
   "cell_type": "code",
   "execution_count": null,
   "id": "0259b330",
   "metadata": {},
   "outputs": [],
   "source": [
    "scaler = MinMaxScaler(feature_range=(0, 1))\n",
    "normado = scaler.fit_transform(df)\n",
    "df_normado = pd.DataFrame(normado, columns=df.columns)  \n",
    "df_normado"
   ]
  },
  {
   "cell_type": "code",
   "execution_count": null,
   "id": "e0bfae9d",
   "metadata": {},
   "outputs": [],
   "source": [
    "X= df_normado.drop('Clase', axis=1)\n"
   ]
  },
  {
   "cell_type": "code",
   "execution_count": null,
   "id": "9d6d8df6",
   "metadata": {},
   "outputs": [],
   "source": [
    "y= df_normado['Clase']"
   ]
  },
  {
   "cell_type": "code",
   "execution_count": null,
   "id": "23567ab6",
   "metadata": {},
   "outputs": [],
   "source": [
    "X_entrena, X_prueba, y_entrena, y_prueba = train_test_split(X, y, train_size=0.8, random_state=36)"
   ]
  },
  {
   "cell_type": "code",
   "execution_count": null,
   "id": "df9a17b9",
   "metadata": {},
   "outputs": [],
   "source": [
    "modelos=[\n",
    "    (\"Regresión Logística\", LogisticRegression()),\n",
    "    (\"Árbol de Decisión\", DecisionTreeClassifier()),    \n",
    "    (\"Bosque Aleatorio\", RandomForestClassifier())  \n",
    "]"
   ]
  },
  {
   "cell_type": "code",
   "execution_count": null,
   "id": "44b1489d",
   "metadata": {},
   "outputs": [],
   "source": [
    "for nombre, modelo in modelos:\n",
    "    modelo.fit(X_entrena, y_entrena)\n",
    "    precision = modelo.score(X_prueba, y_prueba)\n",
    "    print(f\"Precisión del modelo {nombre}: {precision:.4f}\")"
   ]
  }
 ],
 "metadata": {
  "language_info": {
   "name": "python"
  }
 },
 "nbformat": 4,
 "nbformat_minor": 5
}
